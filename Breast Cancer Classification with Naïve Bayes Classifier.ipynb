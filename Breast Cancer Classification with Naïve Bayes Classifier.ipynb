{
 "cells": [
  {
   "cell_type": "code",
   "execution_count": 65,
   "id": "14002752",
   "metadata": {},
   "outputs": [],
   "source": [
    "from sklearn.datasets import load_breast_cancer\n",
    "from sklearn.naive_bayes import GaussianNB\n",
    "import numpy as np\n",
    "import matplotlib.pyplot as plt\n",
    "from sklearn.manifold import TSNE"
   ]
  },
  {
   "cell_type": "code",
   "execution_count": 87,
   "id": "5b688d72",
   "metadata": {},
   "outputs": [
    {
     "data": {
      "text/plain": [
       "['malignant', 'benign']"
      ]
     },
     "execution_count": 87,
     "metadata": {},
     "output_type": "execute_result"
    }
   ],
   "source": [
    "data = load_breast_cancer()\n",
    "X = data[\"data\"]\n",
    "Y = data[\"target\"]\n",
    "list(data.target_names)"
   ]
  },
  {
   "cell_type": "code",
   "execution_count": 126,
   "id": "3d5edfa6",
   "metadata": {},
   "outputs": [],
   "source": [
    "%matplotlib qt\n",
    "from sklearn.preprocessing import StandardScaler\n",
    "from matplotlib import interactive\n",
    "interactive(True)\n",
    "\n",
    "sc = StandardScaler()\n",
    "X_scaled = sc.fit_transform(X)\n",
    "\n",
    "from sklearn.decomposition import PCA\n",
    "pca = PCA(n_components=3)\n",
    "pca.fit(X_scaled)\n",
    "\n",
    "\n",
    "fig = plt.figure(1, figsize=(12, 12))\n",
    "ax = fig.add_subplot(111, projection=\"3d\", elev=90, azim=0)\n",
    "\n",
    "X_reduced = PCA(n_components=3).fit_transform(X)\n",
    "ax.scatter(\n",
    "    X_reduced[:, 0],\n",
    "    X_reduced[:, 1],\n",
    "    X_reduced[:, 2],\n",
    "    c=y,\n",
    "    cmap=plt.cm.Set1,\n",
    "    edgecolor=\"k\",\n",
    "    s=20,\n",
    ")\n",
    "\n",
    "ax.set_title(\"First three PCA directions\")\n",
    "ax.set_xlabel(\"1st eigenvector\")\n",
    "ax.w_xaxis.set_ticklabels([])\n",
    "ax.set_ylabel(\"2nd eigenvector\")\n",
    "ax.w_yaxis.set_ticklabels([])\n",
    "ax.set_zlabel(\"3rd eigenvector\")\n",
    "ax.w_zaxis.set_ticklabels([])\n",
    "\n",
    "plt.show()"
   ]
  },
  {
   "cell_type": "markdown",
   "id": "8fc47322",
   "metadata": {},
   "source": [
    "### Implement Naive Bayes Classifier from scratch"
   ]
  },
  {
   "cell_type": "code",
   "execution_count": 55,
   "id": "6d1cb3fa",
   "metadata": {},
   "outputs": [],
   "source": [
    "class NaiveBayes():\n",
    "    def __init__(self, X, y):\n",
    "        self.num_examples, self.num_features = X.shape\n",
    "        self.num_classes = len(np.unique(y))\n",
    "        self.eps = 1e-6\n",
    "\n",
    "    def fit(self, X):\n",
    "        self.classes_mean = {}\n",
    "        self.classes_variance = {}\n",
    "        self.classes_prior = {}\n",
    "\n",
    "        for c in range(self.num_classes):\n",
    "            X_c = X[y == c]\n",
    "\n",
    "            self.classes_mean[str(c)] = np.mean(X_c, axis=0)\n",
    "            self.classes_variance[str(c)] = np.var(X_c, axis=0)\n",
    "            self.classes_prior[str(c)] = X_c.shape[0] / X.shape[0]\n",
    "\n",
    "    def predict(self, X):\n",
    "        probs = np.zeros((self.num_examples, self.num_classes))\n",
    "\n",
    "        for c in range(self.num_classes):\n",
    "            prior = self.classes_prior[str(c)]\n",
    "            probs_c = self.density_function(X, self.classes_mean[str(c)], self.classes_variance[str(c)])\n",
    "            probs[:, c] = probs_c + np.log(prior)\n",
    "\n",
    "        return np.argmax(probs, 1)\n",
    "\n",
    "    def density_function(self, x, mean, sigma):\n",
    "        # Calculate probability from Gaussian density function\n",
    "        const = -self.num_features / 2 * np.log(2 * np.pi) - 0.5 * np.sum(np.log(sigma + self.eps))\n",
    "        probs = 0.5 * np.sum(np.power(x - mean, 2) / (sigma + self.eps), 1)\n",
    "        return const - probs"
   ]
  },
  {
   "cell_type": "markdown",
   "id": "6990a6b5",
   "metadata": {},
   "source": [
    "### Training"
   ]
  },
  {
   "cell_type": "code",
   "execution_count": 58,
   "id": "e4df250c",
   "metadata": {},
   "outputs": [
    {
     "name": "stdout",
     "output_type": "stream",
     "text": [
      "Accuracy: 0.9402460456942003\n"
     ]
    }
   ],
   "source": [
    "NBC = NaiveBayes(X, Y)\n",
    "NBC.fit(X)\n",
    "preds = NBC.predict(X)\n",
    "\n",
    "print(f\"Accuracy: { sum( preds==Y ) / X.shape[0] }\")"
   ]
  },
  {
   "cell_type": "markdown",
   "id": "78b7a383",
   "metadata": {},
   "source": [
    "### Compare our implementation with sklearn "
   ]
  },
  {
   "cell_type": "code",
   "execution_count": 19,
   "id": "d60d9d42",
   "metadata": {},
   "outputs": [
    {
     "name": "stdout",
     "output_type": "stream",
     "text": [
      "Accuracy: 0.9420035149384886\n"
     ]
    }
   ],
   "source": [
    "NBC_sklearn = GaussianNB()\n",
    "NBC_sklearn.fit(X, Y)\n",
    "preds_sklearn = NBC_sklearn.predict(X)\n",
    "\n",
    "print(f\"Accuracy: { sum( preds_sklearn==Y ) / X.shape[0] }\")"
   ]
  },
  {
   "cell_type": "code",
   "execution_count": null,
   "id": "45e2f4d6",
   "metadata": {},
   "outputs": [],
   "source": []
  }
 ],
 "metadata": {
  "kernelspec": {
   "display_name": "Python 3 (ipykernel)",
   "language": "python",
   "name": "python3"
  },
  "language_info": {
   "codemirror_mode": {
    "name": "ipython",
    "version": 3
   },
   "file_extension": ".py",
   "mimetype": "text/x-python",
   "name": "python",
   "nbconvert_exporter": "python",
   "pygments_lexer": "ipython3",
   "version": "3.9.7"
  }
 },
 "nbformat": 4,
 "nbformat_minor": 5
}
